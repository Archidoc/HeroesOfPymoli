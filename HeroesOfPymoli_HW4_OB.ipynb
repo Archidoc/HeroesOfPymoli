{
 "cells": [
  {
   "cell_type": "code",
   "execution_count": null,
   "metadata": {},
   "outputs": [],
   "source": [
    "# Dependencies\n",
    "import csv\n",
    "import pandas as pd\n",
    "import numpy as np\n",
    "\n",
    "\n",
    "# You must include a written description of three observable trends based on the data.\n",
    "# Few observations can be made out of the dataset given:\n",
    "\n",
    "# 1/ Fist and foremost, this game is address for a young public given the bin breakdown by age. Indeed most of the purchases are targeting a teen public (15/19 years old)\n",
    "# Within the teen large bracket (10/19 years old), it is worth noting that the (15/19 years old) generates almost 3 times more revenue than the (10/14 years old) given the fact that the former bracket is likely to have more money.\n",
    "\n",
    "# 2/ The frequency distribution analysis shows that less and less players are likely to buy items as they grow older.\n",
    "\n",
    "# 3/ Males make more than 80% of the players and as well 80% of the revenue.\n",
    "\n",
    "# 4/ The most profitable items are for the given set roughly twice more expensive than the average ones."
   ]
  },
  {
   "cell_type": "code",
   "execution_count": 571,
   "metadata": {},
   "outputs": [
    {
     "data": {
      "text/html": [
       "<div>\n",
       "<style scoped>\n",
       "    .dataframe tbody tr th:only-of-type {\n",
       "        vertical-align: middle;\n",
       "    }\n",
       "\n",
       "    .dataframe tbody tr th {\n",
       "        vertical-align: top;\n",
       "    }\n",
       "\n",
       "    .dataframe thead th {\n",
       "        text-align: right;\n",
       "    }\n",
       "</style>\n",
       "<table border=\"1\" class=\"dataframe\">\n",
       "  <thead>\n",
       "    <tr style=\"text-align: right;\">\n",
       "      <th></th>\n",
       "      <th>Age</th>\n",
       "      <th>Gender</th>\n",
       "      <th>Item ID</th>\n",
       "      <th>Item Name</th>\n",
       "      <th>Price</th>\n",
       "      <th>SN</th>\n",
       "    </tr>\n",
       "  </thead>\n",
       "  <tbody>\n",
       "    <tr>\n",
       "      <th>0</th>\n",
       "      <td>38</td>\n",
       "      <td>Male</td>\n",
       "      <td>165</td>\n",
       "      <td>Bone Crushing Silver Skewer</td>\n",
       "      <td>3.37</td>\n",
       "      <td>Aelalis34</td>\n",
       "    </tr>\n",
       "    <tr>\n",
       "      <th>1</th>\n",
       "      <td>21</td>\n",
       "      <td>Male</td>\n",
       "      <td>119</td>\n",
       "      <td>Stormbringer, Dark Blade of Ending Misery</td>\n",
       "      <td>2.32</td>\n",
       "      <td>Eolo46</td>\n",
       "    </tr>\n",
       "    <tr>\n",
       "      <th>2</th>\n",
       "      <td>34</td>\n",
       "      <td>Male</td>\n",
       "      <td>174</td>\n",
       "      <td>Primitive Blade</td>\n",
       "      <td>2.46</td>\n",
       "      <td>Assastnya25</td>\n",
       "    </tr>\n",
       "    <tr>\n",
       "      <th>3</th>\n",
       "      <td>21</td>\n",
       "      <td>Male</td>\n",
       "      <td>92</td>\n",
       "      <td>Final Critic</td>\n",
       "      <td>1.36</td>\n",
       "      <td>Pheusrical25</td>\n",
       "    </tr>\n",
       "    <tr>\n",
       "      <th>4</th>\n",
       "      <td>23</td>\n",
       "      <td>Male</td>\n",
       "      <td>63</td>\n",
       "      <td>Stormfury Mace</td>\n",
       "      <td>1.27</td>\n",
       "      <td>Aela59</td>\n",
       "    </tr>\n",
       "  </tbody>\n",
       "</table>\n",
       "</div>"
      ],
      "text/plain": [
       "   Age Gender  Item ID                                  Item Name  Price  \\\n",
       "0   38   Male      165                Bone Crushing Silver Skewer   3.37   \n",
       "1   21   Male      119  Stormbringer, Dark Blade of Ending Misery   2.32   \n",
       "2   34   Male      174                            Primitive Blade   2.46   \n",
       "3   21   Male       92                               Final Critic   1.36   \n",
       "4   23   Male       63                             Stormfury Mace   1.27   \n",
       "\n",
       "             SN  \n",
       "0     Aelalis34  \n",
       "1        Eolo46  \n",
       "2   Assastnya25  \n",
       "3  Pheusrical25  \n",
       "4        Aela59  "
      ]
     },
     "execution_count": 571,
     "metadata": {},
     "output_type": "execute_result"
    }
   ],
   "source": [
    "# The path to the json file\n",
    "file = \"generated_data/purchase_data.json\"\n",
    "file_df = pd.read_json(file)\n",
    "file_df.head()"
   ]
  },
  {
   "cell_type": "code",
   "execution_count": 572,
   "metadata": {},
   "outputs": [
    {
     "data": {
      "text/plain": [
       "Age            int64\n",
       "Gender        object\n",
       "Item ID        int64\n",
       "Item Name     object\n",
       "Price        float64\n",
       "SN            object\n",
       "dtype: object"
      ]
     },
     "execution_count": 572,
     "metadata": {},
     "output_type": "execute_result"
    }
   ],
   "source": [
    "file_df.dtypes"
   ]
  },
  {
   "cell_type": "code",
   "execution_count": 573,
   "metadata": {},
   "outputs": [
    {
     "data": {
      "text/plain": [
       "Age          780\n",
       "Gender       780\n",
       "Item ID      780\n",
       "Item Name    780\n",
       "Price        780\n",
       "SN           780\n",
       "dtype: int64"
      ]
     },
     "execution_count": 573,
     "metadata": {},
     "output_type": "execute_result"
    }
   ],
   "source": [
    "# Check if missing data\n",
    "file_df.count()"
   ]
  },
  {
   "cell_type": "code",
   "execution_count": 574,
   "metadata": {
    "scrolled": true
   },
   "outputs": [
    {
     "data": {
      "text/html": [
       "<div>\n",
       "<style scoped>\n",
       "    .dataframe tbody tr th:only-of-type {\n",
       "        vertical-align: middle;\n",
       "    }\n",
       "\n",
       "    .dataframe tbody tr th {\n",
       "        vertical-align: top;\n",
       "    }\n",
       "\n",
       "    .dataframe thead th {\n",
       "        text-align: right;\n",
       "    }\n",
       "</style>\n",
       "<table border=\"1\" class=\"dataframe\">\n",
       "  <thead>\n",
       "    <tr style=\"text-align: right;\">\n",
       "      <th></th>\n",
       "      <th>Age</th>\n",
       "      <th>Item ID</th>\n",
       "      <th>Price</th>\n",
       "    </tr>\n",
       "  </thead>\n",
       "  <tbody>\n",
       "    <tr>\n",
       "      <th>count</th>\n",
       "      <td>780.000000</td>\n",
       "      <td>780.000000</td>\n",
       "      <td>780.000000</td>\n",
       "    </tr>\n",
       "    <tr>\n",
       "      <th>mean</th>\n",
       "      <td>22.729487</td>\n",
       "      <td>91.293590</td>\n",
       "      <td>2.931192</td>\n",
       "    </tr>\n",
       "    <tr>\n",
       "      <th>std</th>\n",
       "      <td>6.930604</td>\n",
       "      <td>52.707537</td>\n",
       "      <td>1.115780</td>\n",
       "    </tr>\n",
       "    <tr>\n",
       "      <th>min</th>\n",
       "      <td>7.000000</td>\n",
       "      <td>0.000000</td>\n",
       "      <td>1.030000</td>\n",
       "    </tr>\n",
       "    <tr>\n",
       "      <th>25%</th>\n",
       "      <td>19.000000</td>\n",
       "      <td>44.000000</td>\n",
       "      <td>1.960000</td>\n",
       "    </tr>\n",
       "    <tr>\n",
       "      <th>50%</th>\n",
       "      <td>22.000000</td>\n",
       "      <td>91.000000</td>\n",
       "      <td>2.880000</td>\n",
       "    </tr>\n",
       "    <tr>\n",
       "      <th>75%</th>\n",
       "      <td>25.000000</td>\n",
       "      <td>135.000000</td>\n",
       "      <td>3.910000</td>\n",
       "    </tr>\n",
       "    <tr>\n",
       "      <th>max</th>\n",
       "      <td>45.000000</td>\n",
       "      <td>183.000000</td>\n",
       "      <td>4.950000</td>\n",
       "    </tr>\n",
       "  </tbody>\n",
       "</table>\n",
       "</div>"
      ],
      "text/plain": [
       "              Age     Item ID       Price\n",
       "count  780.000000  780.000000  780.000000\n",
       "mean    22.729487   91.293590    2.931192\n",
       "std      6.930604   52.707537    1.115780\n",
       "min      7.000000    0.000000    1.030000\n",
       "25%     19.000000   44.000000    1.960000\n",
       "50%     22.000000   91.000000    2.880000\n",
       "75%     25.000000  135.000000    3.910000\n",
       "max     45.000000  183.000000    4.950000"
      ]
     },
     "execution_count": 574,
     "metadata": {},
     "output_type": "execute_result"
    }
   ],
   "source": [
    "# Display an overview of the database\n",
    "file_df.describe()"
   ]
  },
  {
   "cell_type": "code",
   "execution_count": 594,
   "metadata": {},
   "outputs": [
    {
     "data": {
      "text/html": [
       "<div>\n",
       "<style scoped>\n",
       "    .dataframe tbody tr th:only-of-type {\n",
       "        vertical-align: middle;\n",
       "    }\n",
       "\n",
       "    .dataframe tbody tr th {\n",
       "        vertical-align: top;\n",
       "    }\n",
       "\n",
       "    .dataframe thead th {\n",
       "        text-align: right;\n",
       "    }\n",
       "</style>\n",
       "<table border=\"1\" class=\"dataframe\">\n",
       "  <thead>\n",
       "    <tr style=\"text-align: right;\">\n",
       "      <th></th>\n",
       "      <th>Total Players</th>\n",
       "    </tr>\n",
       "  </thead>\n",
       "  <tbody>\n",
       "    <tr>\n",
       "      <th>0</th>\n",
       "      <td>573</td>\n",
       "    </tr>\n",
       "  </tbody>\n",
       "</table>\n",
       "</div>"
      ],
      "text/plain": [
       "   Total Players\n",
       "0            573"
      ]
     },
     "execution_count": 594,
     "metadata": {},
     "output_type": "execute_result"
    }
   ],
   "source": [
    "# Player Count\n",
    "players_count = file_df.loc[:,[\"Gender\",\"SN\",\"Age\"]]\n",
    "players_count = players_count.drop_duplicates()\n",
    "players_count_df = players_count.count()[0]\n",
    "\n",
    "pd.DataFrame({\"Total Players\":[players_count_df]})\n"
   ]
  },
  {
   "cell_type": "code",
   "execution_count": 595,
   "metadata": {},
   "outputs": [
    {
     "data": {
      "text/plain": [
       "183"
      ]
     },
     "execution_count": 595,
     "metadata": {},
     "output_type": "execute_result"
    }
   ],
   "source": [
    "# Display the unique items from the list of items\n",
    "items_count=len(file_df[\"Item ID\"].unique())\n",
    "items_count"
   ]
  },
  {
   "cell_type": "code",
   "execution_count": 596,
   "metadata": {},
   "outputs": [
    {
     "data": {
      "text/plain": [
       "2.931192307692303"
      ]
     },
     "execution_count": 596,
     "metadata": {},
     "output_type": "execute_result"
    }
   ],
   "source": [
    "# Display an the average purchase price from the list of items\n",
    "avg_purchase_price = file_df[\"Price\"].mean()\n",
    "avg_purchase_price"
   ]
  },
  {
   "cell_type": "code",
   "execution_count": 597,
   "metadata": {},
   "outputs": [
    {
     "data": {
      "text/plain": [
       "780"
      ]
     },
     "execution_count": 597,
     "metadata": {},
     "output_type": "execute_result"
    }
   ],
   "source": [
    "# Display the total number of purchase \n",
    "total_purchase_count = file_df[\"Price\"].count()\n",
    "total_purchase_count"
   ]
  },
  {
   "cell_type": "code",
   "execution_count": 598,
   "metadata": {},
   "outputs": [
    {
     "data": {
      "text/plain": [
       "2286.33"
      ]
     },
     "execution_count": 598,
     "metadata": {},
     "output_type": "execute_result"
    }
   ],
   "source": [
    "# Display the total revenue\n",
    "total_purchase_value = file_df[\"Price\"].sum()\n",
    "total_purchase_value"
   ]
  },
  {
   "cell_type": "code",
   "execution_count": 599,
   "metadata": {},
   "outputs": [
    {
     "data": {
      "text/html": [
       "<style  type=\"text/css\" >\n",
       "</style>  \n",
       "<table id=\"T_9d77ac4a_2b27_11e8_8da0_14abc5858625\" > \n",
       "<thead>    <tr> \n",
       "        <th class=\"blank level0\" ></th> \n",
       "        <th class=\"col_heading level0 col0\" >Number of Unique Items</th> \n",
       "        <th class=\"col_heading level0 col1\" >Average Price</th> \n",
       "        <th class=\"col_heading level0 col2\" >Number of Purchases</th> \n",
       "        <th class=\"col_heading level0 col3\" >Total revenue</th> \n",
       "    </tr></thead> \n",
       "<tbody>    <tr> \n",
       "        <th id=\"T_9d77ac4a_2b27_11e8_8da0_14abc5858625level0_row0\" class=\"row_heading level0 row0\" >0</th> \n",
       "        <td id=\"T_9d77ac4a_2b27_11e8_8da0_14abc5858625row0_col0\" class=\"data row0 col0\" >183</td> \n",
       "        <td id=\"T_9d77ac4a_2b27_11e8_8da0_14abc5858625row0_col1\" class=\"data row0 col1\" >$2.93</td> \n",
       "        <td id=\"T_9d77ac4a_2b27_11e8_8da0_14abc5858625row0_col2\" class=\"data row0 col2\" >780</td> \n",
       "        <td id=\"T_9d77ac4a_2b27_11e8_8da0_14abc5858625row0_col3\" class=\"data row0 col3\" >$2286.33</td> \n",
       "    </tr></tbody> \n",
       "</table> "
      ],
      "text/plain": [
       "<pandas.io.formats.style.Styler at 0x14b4262a6a0>"
      ]
     },
     "execution_count": 599,
     "metadata": {},
     "output_type": "execute_result"
    }
   ],
   "source": [
    "# Purchasing Analysis (total)\n",
    "purchases_summary_table = pd.DataFrame({\"Number of Unique Items\":items_count,\n",
    "                                 \"Average Price\": [avg_purchase_price],\n",
    "                                 \"Number of Purchases\":[total_purchase_count],\n",
    "                                 \"Total revenue\":[total_purchase_value]}, \n",
    "                                       columns = [\"Number of Unique Items\",\n",
    "                                                  \"Average Price\",\n",
    "                                                  \"Number of Purchases\",\n",
    "                                                 \"Total revenue\"])\n",
    "\n",
    "purchases_summary_table.style.format({\"Average Price\":\"${:.2f}\",\"Total revenue\": \"${:.2f}\"})"
   ]
  },
  {
   "cell_type": "code",
   "execution_count": 600,
   "metadata": {},
   "outputs": [
    {
     "data": {
      "text/html": [
       "<style  type=\"text/css\" >\n",
       "</style>  \n",
       "<table id=\"T_9d9e787e_2b27_11e8_8b22_14abc5858625\" > \n",
       "<thead>    <tr> \n",
       "        <th class=\"blank level0\" ></th> \n",
       "        <th class=\"col_heading level0 col0\" >Percentage of Players</th> \n",
       "        <th class=\"col_heading level0 col1\" >Total Count</th> \n",
       "    </tr></thead> \n",
       "<tbody>    <tr> \n",
       "        <th id=\"T_9d9e787e_2b27_11e8_8b22_14abc5858625level0_row0\" class=\"row_heading level0 row0\" >Male</th> \n",
       "        <td id=\"T_9d9e787e_2b27_11e8_8b22_14abc5858625row0_col0\" class=\"data row0 col0\" >81.15%</td> \n",
       "        <td id=\"T_9d9e787e_2b27_11e8_8b22_14abc5858625row0_col1\" class=\"data row0 col1\" >465</td> \n",
       "    </tr>    <tr> \n",
       "        <th id=\"T_9d9e787e_2b27_11e8_8b22_14abc5858625level0_row1\" class=\"row_heading level0 row1\" >Female</th> \n",
       "        <td id=\"T_9d9e787e_2b27_11e8_8b22_14abc5858625row1_col0\" class=\"data row1 col0\" >17.45%</td> \n",
       "        <td id=\"T_9d9e787e_2b27_11e8_8b22_14abc5858625row1_col1\" class=\"data row1 col1\" >100</td> \n",
       "    </tr>    <tr> \n",
       "        <th id=\"T_9d9e787e_2b27_11e8_8b22_14abc5858625level0_row2\" class=\"row_heading level0 row2\" >Other / Non-Disclosed</th> \n",
       "        <td id=\"T_9d9e787e_2b27_11e8_8b22_14abc5858625row2_col0\" class=\"data row2 col0\" >1.40%</td> \n",
       "        <td id=\"T_9d9e787e_2b27_11e8_8b22_14abc5858625row2_col1\" class=\"data row2 col1\" >8</td> \n",
       "    </tr></tbody> \n",
       "</table> "
      ],
      "text/plain": [
       "<pandas.io.formats.style.Styler at 0x14b425ba550>"
      ]
     },
     "execution_count": 600,
     "metadata": {},
     "output_type": "execute_result"
    }
   ],
   "source": [
    "# Gender demographics\n",
    "gender_breakdown = players_count[\"Gender\"].value_counts()\n",
    "gender_breakdown_perc = (gender_breakdown/players_count_df)*100\n",
    "\n",
    "\n",
    "gender_summary_table = pd.DataFrame({\"Total Count\": gender_breakdown,\"Percentage of Players\":gender_breakdown_perc}, columns = [\"Percentage of Players\",\"Total Count\"])\n",
    "gender_summary_table\n",
    "\n",
    "\n",
    "gender_summary_table.style.format({\"Percentage of Players\":\"{:.2f}%\",\"Total Count\":\"{:.0f}\"})\n"
   ]
  },
  {
   "cell_type": "code",
   "execution_count": 601,
   "metadata": {},
   "outputs": [
    {
     "data": {
      "text/html": [
       "<style  type=\"text/css\" >\n",
       "</style>  \n",
       "<table id=\"T_9dcc2a50_2b27_11e8_8a56_14abc5858625\" > \n",
       "<thead>    <tr> \n",
       "        <th class=\"blank level0\" ></th> \n",
       "        <th class=\"col_heading level0 col0\" >Purchase Count</th> \n",
       "        <th class=\"col_heading level0 col1\" >Average Purchase Price</th> \n",
       "        <th class=\"col_heading level0 col2\" >Total Purchase Value</th> \n",
       "        <th class=\"col_heading level0 col3\" >Normalized Totals</th> \n",
       "    </tr>    <tr> \n",
       "        <th class=\"index_name level0\" >Gender</th> \n",
       "        <th class=\"blank\" ></th> \n",
       "        <th class=\"blank\" ></th> \n",
       "        <th class=\"blank\" ></th> \n",
       "        <th class=\"blank\" ></th> \n",
       "    </tr></thead> \n",
       "<tbody>    <tr> \n",
       "        <th id=\"T_9dcc2a50_2b27_11e8_8a56_14abc5858625level0_row0\" class=\"row_heading level0 row0\" >Female</th> \n",
       "        <td id=\"T_9dcc2a50_2b27_11e8_8a56_14abc5858625row0_col0\" class=\"data row0 col0\" >136</td> \n",
       "        <td id=\"T_9dcc2a50_2b27_11e8_8a56_14abc5858625row0_col1\" class=\"data row0 col1\" >$2.82</td> \n",
       "        <td id=\"T_9dcc2a50_2b27_11e8_8a56_14abc5858625row0_col2\" class=\"data row0 col2\" >$382.91</td> \n",
       "        <td id=\"T_9dcc2a50_2b27_11e8_8a56_14abc5858625row0_col3\" class=\"data row0 col3\" >$3.83</td> \n",
       "    </tr>    <tr> \n",
       "        <th id=\"T_9dcc2a50_2b27_11e8_8a56_14abc5858625level0_row1\" class=\"row_heading level0 row1\" >Male</th> \n",
       "        <td id=\"T_9dcc2a50_2b27_11e8_8a56_14abc5858625row1_col0\" class=\"data row1 col0\" >633</td> \n",
       "        <td id=\"T_9dcc2a50_2b27_11e8_8a56_14abc5858625row1_col1\" class=\"data row1 col1\" >$2.95</td> \n",
       "        <td id=\"T_9dcc2a50_2b27_11e8_8a56_14abc5858625row1_col2\" class=\"data row1 col2\" >$1867.68</td> \n",
       "        <td id=\"T_9dcc2a50_2b27_11e8_8a56_14abc5858625row1_col3\" class=\"data row1 col3\" >$4.02</td> \n",
       "    </tr>    <tr> \n",
       "        <th id=\"T_9dcc2a50_2b27_11e8_8a56_14abc5858625level0_row2\" class=\"row_heading level0 row2\" >Other / Non-Disclosed</th> \n",
       "        <td id=\"T_9dcc2a50_2b27_11e8_8a56_14abc5858625row2_col0\" class=\"data row2 col0\" >11</td> \n",
       "        <td id=\"T_9dcc2a50_2b27_11e8_8a56_14abc5858625row2_col1\" class=\"data row2 col1\" >$3.25</td> \n",
       "        <td id=\"T_9dcc2a50_2b27_11e8_8a56_14abc5858625row2_col2\" class=\"data row2 col2\" >$35.74</td> \n",
       "        <td id=\"T_9dcc2a50_2b27_11e8_8a56_14abc5858625row2_col3\" class=\"data row2 col3\" >$4.47</td> \n",
       "    </tr></tbody> \n",
       "</table> "
      ],
      "text/plain": [
       "<pandas.io.formats.style.Styler at 0x14b4257da20>"
      ]
     },
     "execution_count": 601,
     "metadata": {},
     "output_type": "execute_result"
    }
   ],
   "source": [
    "# Purchasing Analysis (gender)\n",
    "gender_purchase_count = file_df.groupby([\"Gender\"]).count()[\"Price\"].rename(\"Purchase Count\")\n",
    "gender_purchase_count \n",
    "gender_purchase_value = file_df.groupby([\"Gender\"]).sum()[\"Price\"].rename(\"Total Purchase Value\")\n",
    "gender_purchase_value \n",
    "gender_avg_purchase = file_df.groupby([\"Gender\"]).mean()[\"Price\"].rename(\"Average Purchase Price\")\n",
    "gender_avg_purchase\n",
    "normalized_total = gender_purchase_value / gender_breakdown\n",
    "normalized_total\n",
    "\n",
    "\n",
    "gender_breakdown_summary_table = pd.DataFrame({\"Purchase Count\": gender_purchase_count,\n",
    "                                               \"Total Purchase Value\":gender_purchase_value,\n",
    "                                               \"Average Purchase Price\":gender_avg_purchase,\n",
    "                                               \"Normalized Totals\":normalized_total\n",
    "                                              }, columns = [\"Purchase Count\",\n",
    "                                                            \"Average Purchase Price\",\n",
    "                                                            \"Total Purchase Value\",\n",
    "                                                           \"Normalized Totals\"])\n",
    "\n",
    "gender_breakdown_summary_table\n",
    "\n",
    "\n",
    "gender_breakdown_summary_table.style.format({\"Total Purchase Value\":\"${:.2f}\",\"Average Purchase Price\":\"${:.2f}\", \"Normalized Totals\":\"${:.2f}\"})"
   ]
  },
  {
   "cell_type": "code",
   "execution_count": 602,
   "metadata": {},
   "outputs": [
    {
     "data": {
      "text/html": [
       "<div>\n",
       "<style scoped>\n",
       "    .dataframe tbody tr th:only-of-type {\n",
       "        vertical-align: middle;\n",
       "    }\n",
       "\n",
       "    .dataframe tbody tr th {\n",
       "        vertical-align: top;\n",
       "    }\n",
       "\n",
       "    .dataframe thead th {\n",
       "        text-align: right;\n",
       "    }\n",
       "</style>\n",
       "<table border=\"1\" class=\"dataframe\">\n",
       "  <thead>\n",
       "    <tr style=\"text-align: right;\">\n",
       "      <th></th>\n",
       "      <th>Age</th>\n",
       "      <th>Gender</th>\n",
       "      <th>Item ID</th>\n",
       "      <th>Item Name</th>\n",
       "      <th>Price</th>\n",
       "      <th>SN</th>\n",
       "      <th>Age Bins</th>\n",
       "    </tr>\n",
       "  </thead>\n",
       "  <tbody>\n",
       "    <tr>\n",
       "      <th>0</th>\n",
       "      <td>38</td>\n",
       "      <td>Male</td>\n",
       "      <td>165</td>\n",
       "      <td>Bone Crushing Silver Skewer</td>\n",
       "      <td>3.37</td>\n",
       "      <td>Aelalis34</td>\n",
       "      <td>35-39</td>\n",
       "    </tr>\n",
       "    <tr>\n",
       "      <th>1</th>\n",
       "      <td>21</td>\n",
       "      <td>Male</td>\n",
       "      <td>119</td>\n",
       "      <td>Stormbringer, Dark Blade of Ending Misery</td>\n",
       "      <td>2.32</td>\n",
       "      <td>Eolo46</td>\n",
       "      <td>20-24</td>\n",
       "    </tr>\n",
       "    <tr>\n",
       "      <th>2</th>\n",
       "      <td>34</td>\n",
       "      <td>Male</td>\n",
       "      <td>174</td>\n",
       "      <td>Primitive Blade</td>\n",
       "      <td>2.46</td>\n",
       "      <td>Assastnya25</td>\n",
       "      <td>30-34</td>\n",
       "    </tr>\n",
       "    <tr>\n",
       "      <th>3</th>\n",
       "      <td>21</td>\n",
       "      <td>Male</td>\n",
       "      <td>92</td>\n",
       "      <td>Final Critic</td>\n",
       "      <td>1.36</td>\n",
       "      <td>Pheusrical25</td>\n",
       "      <td>20-24</td>\n",
       "    </tr>\n",
       "    <tr>\n",
       "      <th>4</th>\n",
       "      <td>23</td>\n",
       "      <td>Male</td>\n",
       "      <td>63</td>\n",
       "      <td>Stormfury Mace</td>\n",
       "      <td>1.27</td>\n",
       "      <td>Aela59</td>\n",
       "      <td>20-24</td>\n",
       "    </tr>\n",
       "  </tbody>\n",
       "</table>\n",
       "</div>"
      ],
      "text/plain": [
       "   Age Gender  Item ID                                  Item Name  Price  \\\n",
       "0   38   Male      165                Bone Crushing Silver Skewer   3.37   \n",
       "1   21   Male      119  Stormbringer, Dark Blade of Ending Misery   2.32   \n",
       "2   34   Male      174                            Primitive Blade   2.46   \n",
       "3   21   Male       92                               Final Critic   1.36   \n",
       "4   23   Male       63                             Stormfury Mace   1.27   \n",
       "\n",
       "             SN Age Bins  \n",
       "0     Aelalis34    35-39  \n",
       "1        Eolo46    20-24  \n",
       "2   Assastnya25    30-34  \n",
       "3  Pheusrical25    20-24  \n",
       "4        Aela59    20-24  "
      ]
     },
     "execution_count": 602,
     "metadata": {},
     "output_type": "execute_result"
    }
   ],
   "source": [
    "# Create the bins in which Data will be held\n",
    "age_bins_values = [0,9,14,19,24,29,34,39,44,100]\n",
    "# Create the names for the different bins\n",
    "age_bins_names = [\"<10\",\"10-14\", \"15-19\", \"20-24\", \"25-29\", \"30-34\", \"35-39\", \"40-44\", \"45+\"]\n",
    "# Cut age and place the scores into bins\n",
    "file_df[\"Age Bins\"] = pd.cut(file_df[\"Age\"],age_bins_values, labels=age_bins_names)\n",
    "\n",
    "file_df.head()"
   ]
  },
  {
   "cell_type": "code",
   "execution_count": 603,
   "metadata": {},
   "outputs": [
    {
     "data": {
      "text/html": [
       "<div>\n",
       "<style scoped>\n",
       "    .dataframe tbody tr th:only-of-type {\n",
       "        vertical-align: middle;\n",
       "    }\n",
       "\n",
       "    .dataframe tbody tr th {\n",
       "        vertical-align: top;\n",
       "    }\n",
       "\n",
       "    .dataframe thead th {\n",
       "        text-align: right;\n",
       "    }\n",
       "</style>\n",
       "<table border=\"1\" class=\"dataframe\">\n",
       "  <thead>\n",
       "    <tr style=\"text-align: right;\">\n",
       "      <th></th>\n",
       "      <th>Percentage of Players</th>\n",
       "      <th>Total Count</th>\n",
       "    </tr>\n",
       "    <tr>\n",
       "      <th>Age</th>\n",
       "      <th></th>\n",
       "      <th></th>\n",
       "    </tr>\n",
       "  </thead>\n",
       "  <tbody>\n",
       "    <tr>\n",
       "      <th>&lt;10</th>\n",
       "      <td>45.20</td>\n",
       "      <td>259</td>\n",
       "    </tr>\n",
       "    <tr>\n",
       "      <th>10-14</th>\n",
       "      <td>17.45</td>\n",
       "      <td>100</td>\n",
       "    </tr>\n",
       "    <tr>\n",
       "      <th>15-19</th>\n",
       "      <td>15.18</td>\n",
       "      <td>87</td>\n",
       "    </tr>\n",
       "    <tr>\n",
       "      <th>20-24</th>\n",
       "      <td>8.20</td>\n",
       "      <td>47</td>\n",
       "    </tr>\n",
       "    <tr>\n",
       "      <th>25-29</th>\n",
       "      <td>4.71</td>\n",
       "      <td>27</td>\n",
       "    </tr>\n",
       "    <tr>\n",
       "      <th>30-34</th>\n",
       "      <td>4.01</td>\n",
       "      <td>23</td>\n",
       "    </tr>\n",
       "    <tr>\n",
       "      <th>35-39</th>\n",
       "      <td>3.32</td>\n",
       "      <td>19</td>\n",
       "    </tr>\n",
       "    <tr>\n",
       "      <th>40-44</th>\n",
       "      <td>1.75</td>\n",
       "      <td>10</td>\n",
       "    </tr>\n",
       "    <tr>\n",
       "      <th>45-49</th>\n",
       "      <td>0.17</td>\n",
       "      <td>1</td>\n",
       "    </tr>\n",
       "  </tbody>\n",
       "</table>\n",
       "</div>"
      ],
      "text/plain": [
       "       Percentage of Players  Total Count\n",
       "Age                                      \n",
       "<10                    45.20          259\n",
       "10-14                  17.45          100\n",
       "15-19                  15.18           87\n",
       "20-24                   8.20           47\n",
       "25-29                   4.71           27\n",
       "30-34                   4.01           23\n",
       "35-39                   3.32           19\n",
       "40-44                   1.75           10\n",
       "45-49                   0.17            1"
      ]
     },
     "execution_count": 603,
     "metadata": {},
     "output_type": "execute_result"
    }
   ],
   "source": [
    "# Create a GroupBy object based upon \"Age Bins\"\n",
    "player_bin_group = file_df.groupby(\"Age Bins\")\n",
    "\n",
    "# # Find how many rows fall into each bin\n",
    "# print(player_bin_group[\"Age Bins\"].count())\n",
    "\n",
    "# Calculate the number and % by age bins\n",
    "# player_count_bin = players_count[\"Age Bins\"].value_counts()\n",
    "# player_count_bin\n",
    "\n",
    "player_bin_group = file_df.groupby(\"Age Bins\")\n",
    "\n",
    "# player_perc_bin\n",
    "player_perc_bin = ((player_count_bin/players_count_df)*100).round(2)\n",
    "\n",
    "# Format the dataframe\n",
    "player_bin_summary_table = pd.DataFrame({\"Age\":[\"<10\", \"10-14\", \"15-19\", \"20-24\", \"25-29\", \"30-34\", \"35-39\", \"40-44\", \"45-49\"],\n",
    "                                         \"Total Count\": player_count_bin,\n",
    "                                        \"Percentage of Players\":player_perc_bin}, \n",
    "                                        columns = [\"Age\", \"Percentage of Players\",\"Total Count\"])\n",
    "\n",
    "# Order the results by Age bin\n",
    "player_bin_summary_table\n",
    "\n",
    "# Print table\n",
    "player_bin_summary_table.set_index(\"Age\")\n",
    "\n"
   ]
  },
  {
   "cell_type": "code",
   "execution_count": 604,
   "metadata": {},
   "outputs": [
    {
     "data": {
      "text/html": [
       "<style  type=\"text/css\" >\n",
       "</style>  \n",
       "<table id=\"T_9e4aead4_2b27_11e8_863c_14abc5858625\" > \n",
       "<thead>    <tr> \n",
       "        <th class=\"blank level0\" ></th> \n",
       "        <th class=\"col_heading level0 col0\" >Purchase Count</th> \n",
       "        <th class=\"col_heading level0 col1\" >Average Purchase Price</th> \n",
       "        <th class=\"col_heading level0 col2\" >Total Purchase Value</th> \n",
       "        <th class=\"col_heading level0 col3\" >Normalized Totals</th> \n",
       "    </tr>    <tr> \n",
       "        <th class=\"index_name level0\" >Age</th> \n",
       "        <th class=\"blank\" ></th> \n",
       "        <th class=\"blank\" ></th> \n",
       "        <th class=\"blank\" ></th> \n",
       "        <th class=\"blank\" ></th> \n",
       "    </tr></thead> \n",
       "<tbody>    <tr> \n",
       "        <th id=\"T_9e4aead4_2b27_11e8_863c_14abc5858625level0_row0\" class=\"row_heading level0 row0\" ><10</th> \n",
       "        <td id=\"T_9e4aead4_2b27_11e8_863c_14abc5858625row0_col0\" class=\"data row0 col0\" >35</td> \n",
       "        <td id=\"T_9e4aead4_2b27_11e8_863c_14abc5858625row0_col1\" class=\"data row0 col1\" >$2.77</td> \n",
       "        <td id=\"T_9e4aead4_2b27_11e8_863c_14abc5858625row0_col2\" class=\"data row0 col2\" >$96.95</td> \n",
       "        <td id=\"T_9e4aead4_2b27_11e8_863c_14abc5858625row0_col3\" class=\"data row0 col3\" >$4.22</td> \n",
       "    </tr>    <tr> \n",
       "        <th id=\"T_9e4aead4_2b27_11e8_863c_14abc5858625level0_row1\" class=\"row_heading level0 row1\" >10-14</th> \n",
       "        <td id=\"T_9e4aead4_2b27_11e8_863c_14abc5858625row1_col0\" class=\"data row1 col0\" >133</td> \n",
       "        <td id=\"T_9e4aead4_2b27_11e8_863c_14abc5858625row1_col1\" class=\"data row1 col1\" >$2.91</td> \n",
       "        <td id=\"T_9e4aead4_2b27_11e8_863c_14abc5858625row1_col2\" class=\"data row1 col2\" >$386.42</td> \n",
       "        <td id=\"T_9e4aead4_2b27_11e8_863c_14abc5858625row1_col3\" class=\"data row1 col3\" >$3.86</td> \n",
       "    </tr>    <tr> \n",
       "        <th id=\"T_9e4aead4_2b27_11e8_863c_14abc5858625level0_row2\" class=\"row_heading level0 row2\" >15-19</th> \n",
       "        <td id=\"T_9e4aead4_2b27_11e8_863c_14abc5858625row2_col0\" class=\"data row2 col0\" >336</td> \n",
       "        <td id=\"T_9e4aead4_2b27_11e8_863c_14abc5858625row2_col1\" class=\"data row2 col1\" >$2.91</td> \n",
       "        <td id=\"T_9e4aead4_2b27_11e8_863c_14abc5858625row2_col2\" class=\"data row2 col2\" >$978.77</td> \n",
       "        <td id=\"T_9e4aead4_2b27_11e8_863c_14abc5858625row2_col3\" class=\"data row2 col3\" >$3.78</td> \n",
       "    </tr>    <tr> \n",
       "        <th id=\"T_9e4aead4_2b27_11e8_863c_14abc5858625level0_row3\" class=\"row_heading level0 row3\" >20-24</th> \n",
       "        <td id=\"T_9e4aead4_2b27_11e8_863c_14abc5858625row3_col0\" class=\"data row3 col0\" >125</td> \n",
       "        <td id=\"T_9e4aead4_2b27_11e8_863c_14abc5858625row3_col1\" class=\"data row3 col1\" >$2.96</td> \n",
       "        <td id=\"T_9e4aead4_2b27_11e8_863c_14abc5858625row3_col2\" class=\"data row3 col2\" >$370.33</td> \n",
       "        <td id=\"T_9e4aead4_2b27_11e8_863c_14abc5858625row3_col3\" class=\"data row3 col3\" >$4.26</td> \n",
       "    </tr>    <tr> \n",
       "        <th id=\"T_9e4aead4_2b27_11e8_863c_14abc5858625level0_row4\" class=\"row_heading level0 row4\" >25-29</th> \n",
       "        <td id=\"T_9e4aead4_2b27_11e8_863c_14abc5858625row4_col0\" class=\"data row4 col0\" >64</td> \n",
       "        <td id=\"T_9e4aead4_2b27_11e8_863c_14abc5858625row4_col1\" class=\"data row4 col1\" >$3.08</td> \n",
       "        <td id=\"T_9e4aead4_2b27_11e8_863c_14abc5858625row4_col2\" class=\"data row4 col2\" >$197.25</td> \n",
       "        <td id=\"T_9e4aead4_2b27_11e8_863c_14abc5858625row4_col3\" class=\"data row4 col3\" >$4.20</td> \n",
       "    </tr>    <tr> \n",
       "        <th id=\"T_9e4aead4_2b27_11e8_863c_14abc5858625level0_row5\" class=\"row_heading level0 row5\" >30-34</th> \n",
       "        <td id=\"T_9e4aead4_2b27_11e8_863c_14abc5858625row5_col0\" class=\"data row5 col0\" >42</td> \n",
       "        <td id=\"T_9e4aead4_2b27_11e8_863c_14abc5858625row5_col1\" class=\"data row5 col1\" >$2.84</td> \n",
       "        <td id=\"T_9e4aead4_2b27_11e8_863c_14abc5858625row5_col2\" class=\"data row5 col2\" >$119.40</td> \n",
       "        <td id=\"T_9e4aead4_2b27_11e8_863c_14abc5858625row5_col3\" class=\"data row5 col3\" >$4.42</td> \n",
       "    </tr>    <tr> \n",
       "        <th id=\"T_9e4aead4_2b27_11e8_863c_14abc5858625level0_row6\" class=\"row_heading level0 row6\" >35-39</th> \n",
       "        <td id=\"T_9e4aead4_2b27_11e8_863c_14abc5858625row6_col0\" class=\"data row6 col0\" >16</td> \n",
       "        <td id=\"T_9e4aead4_2b27_11e8_863c_14abc5858625row6_col1\" class=\"data row6 col1\" >$3.19</td> \n",
       "        <td id=\"T_9e4aead4_2b27_11e8_863c_14abc5858625row6_col2\" class=\"data row6 col2\" >$51.03</td> \n",
       "        <td id=\"T_9e4aead4_2b27_11e8_863c_14abc5858625row6_col3\" class=\"data row6 col3\" >$5.10</td> \n",
       "    </tr>    <tr> \n",
       "        <th id=\"T_9e4aead4_2b27_11e8_863c_14abc5858625level0_row7\" class=\"row_heading level0 row7\" >40-44</th> \n",
       "        <td id=\"T_9e4aead4_2b27_11e8_863c_14abc5858625row7_col0\" class=\"data row7 col0\" >1</td> \n",
       "        <td id=\"T_9e4aead4_2b27_11e8_863c_14abc5858625row7_col1\" class=\"data row7 col1\" >$2.72</td> \n",
       "        <td id=\"T_9e4aead4_2b27_11e8_863c_14abc5858625row7_col2\" class=\"data row7 col2\" >$2.72</td> \n",
       "        <td id=\"T_9e4aead4_2b27_11e8_863c_14abc5858625row7_col3\" class=\"data row7 col3\" >$2.72</td> \n",
       "    </tr>    <tr> \n",
       "        <th id=\"T_9e4aead4_2b27_11e8_863c_14abc5858625level0_row8\" class=\"row_heading level0 row8\" >45-49</th> \n",
       "        <td id=\"T_9e4aead4_2b27_11e8_863c_14abc5858625row8_col0\" class=\"data row8 col0\" >28</td> \n",
       "        <td id=\"T_9e4aead4_2b27_11e8_863c_14abc5858625row8_col1\" class=\"data row8 col1\" >$2.98</td> \n",
       "        <td id=\"T_9e4aead4_2b27_11e8_863c_14abc5858625row8_col2\" class=\"data row8 col2\" >$83.46</td> \n",
       "        <td id=\"T_9e4aead4_2b27_11e8_863c_14abc5858625row8_col3\" class=\"data row8 col3\" >$4.39</td> \n",
       "    </tr></tbody> \n",
       "</table> "
      ],
      "text/plain": [
       "<pandas.io.formats.style.Styler at 0x14b4258a6a0>"
      ]
     },
     "execution_count": 604,
     "metadata": {},
     "output_type": "execute_result"
    }
   ],
   "source": [
    "# Bin Purchase by Age\n",
    "file_df[\"Age Bins\"] = pd.cut(file_df[\"Age\"],age_bins_values, labels=age_bins_names)\n",
    "\n",
    "# Calculate Purchase Count, Total Sum and Avg Price\n",
    "age_total_purchase = file_df.groupby([\"Age Bins\"]).sum()[\"Price\"].rename(\"Total Purchase Value\")\n",
    "age_avg_purchase = file_df.groupby([\"Age Bins\"]).mean()[\"Price\"].rename(\"Average Purchase Price\")\n",
    "age_counts_purchase = file_df.groupby([\"Age Bins\"]).count()[\"Price\"].rename(\"Purchase Count\")\n",
    "\n",
    "# Calculate Normalized totals\n",
    "normalized_total = age_total_purchase / player_bin_summary_table[\"Total Count\"]\n",
    "\n",
    "# Format the dataframe\n",
    "player_data_summary_table = pd.DataFrame({\"Age\": [\"<10\", \"10-14\", \"15-19\", \"20-24\", \"25-29\", \"30-34\", \"35-39\", \"40-44\", \"45-49\"],\n",
    "                                          \"Purchase Count\": age_counts_purchase,\n",
    "                                          \"Average Purchase Price\":age_avg_purchase,\n",
    "                                          \"Total Purchase Value\":age_total_purchase,\n",
    "                                          \"Normalized Totals\":normalized_total\n",
    "                                         }, columns = [\"Age\",\"Purchase Count\",\n",
    "                                                       \"Average Purchase Price\",\n",
    "                                                       \"Total Purchase Value\",\n",
    "                                                      \"Normalized Totals\"])\n",
    "# Index Age\n",
    "player_age_summary_final = player_data_summary_table.set_index(\"Age\")\n",
    "\n",
    "# Format the results\n",
    "player_age_summary_final.style.format({\"Average Purchase Price\":\"${:.2f}\",\"Total Purchase Value\":\"${:.2f}\", \"Normalized Totals\":\"${:.2f}\"})\n"
   ]
  },
  {
   "cell_type": "code",
   "execution_count": 605,
   "metadata": {},
   "outputs": [
    {
     "data": {
      "text/html": [
       "<style  type=\"text/css\" >\n",
       "</style>  \n",
       "<table id=\"T_9e7798ba_2b27_11e8_b31b_14abc5858625\" > \n",
       "<thead>    <tr> \n",
       "        <th class=\"blank level0\" ></th> \n",
       "        <th class=\"col_heading level0 col0\" >Purchase Count</th> \n",
       "        <th class=\"col_heading level0 col1\" >Average Purchase Price</th> \n",
       "        <th class=\"col_heading level0 col2\" >Total Purchase Value</th> \n",
       "    </tr>    <tr> \n",
       "        <th class=\"index_name level0\" >SN</th> \n",
       "        <th class=\"blank\" ></th> \n",
       "        <th class=\"blank\" ></th> \n",
       "        <th class=\"blank\" ></th> \n",
       "    </tr></thead> \n",
       "<tbody>    <tr> \n",
       "        <th id=\"T_9e7798ba_2b27_11e8_b31b_14abc5858625level0_row0\" class=\"row_heading level0 row0\" >Undirrala66</th> \n",
       "        <td id=\"T_9e7798ba_2b27_11e8_b31b_14abc5858625row0_col0\" class=\"data row0 col0\" >5</td> \n",
       "        <td id=\"T_9e7798ba_2b27_11e8_b31b_14abc5858625row0_col1\" class=\"data row0 col1\" >$3.41</td> \n",
       "        <td id=\"T_9e7798ba_2b27_11e8_b31b_14abc5858625row0_col2\" class=\"data row0 col2\" >$17.06</td> \n",
       "    </tr>    <tr> \n",
       "        <th id=\"T_9e7798ba_2b27_11e8_b31b_14abc5858625level0_row1\" class=\"row_heading level0 row1\" >Saedue76</th> \n",
       "        <td id=\"T_9e7798ba_2b27_11e8_b31b_14abc5858625row1_col0\" class=\"data row1 col0\" >4</td> \n",
       "        <td id=\"T_9e7798ba_2b27_11e8_b31b_14abc5858625row1_col1\" class=\"data row1 col1\" >$3.39</td> \n",
       "        <td id=\"T_9e7798ba_2b27_11e8_b31b_14abc5858625row1_col2\" class=\"data row1 col2\" >$13.56</td> \n",
       "    </tr>    <tr> \n",
       "        <th id=\"T_9e7798ba_2b27_11e8_b31b_14abc5858625level0_row2\" class=\"row_heading level0 row2\" >Mindimnya67</th> \n",
       "        <td id=\"T_9e7798ba_2b27_11e8_b31b_14abc5858625row2_col0\" class=\"data row2 col0\" >4</td> \n",
       "        <td id=\"T_9e7798ba_2b27_11e8_b31b_14abc5858625row2_col1\" class=\"data row2 col1\" >$3.18</td> \n",
       "        <td id=\"T_9e7798ba_2b27_11e8_b31b_14abc5858625row2_col2\" class=\"data row2 col2\" >$12.74</td> \n",
       "    </tr>    <tr> \n",
       "        <th id=\"T_9e7798ba_2b27_11e8_b31b_14abc5858625level0_row3\" class=\"row_heading level0 row3\" >Haellysu29</th> \n",
       "        <td id=\"T_9e7798ba_2b27_11e8_b31b_14abc5858625row3_col0\" class=\"data row3 col0\" >3</td> \n",
       "        <td id=\"T_9e7798ba_2b27_11e8_b31b_14abc5858625row3_col1\" class=\"data row3 col1\" >$4.24</td> \n",
       "        <td id=\"T_9e7798ba_2b27_11e8_b31b_14abc5858625row3_col2\" class=\"data row3 col2\" >$12.73</td> \n",
       "    </tr>    <tr> \n",
       "        <th id=\"T_9e7798ba_2b27_11e8_b31b_14abc5858625level0_row4\" class=\"row_heading level0 row4\" >Eoda93</th> \n",
       "        <td id=\"T_9e7798ba_2b27_11e8_b31b_14abc5858625row4_col0\" class=\"data row4 col0\" >3</td> \n",
       "        <td id=\"T_9e7798ba_2b27_11e8_b31b_14abc5858625row4_col1\" class=\"data row4 col1\" >$3.86</td> \n",
       "        <td id=\"T_9e7798ba_2b27_11e8_b31b_14abc5858625row4_col2\" class=\"data row4 col2\" >$11.58</td> \n",
       "    </tr></tbody> \n",
       "</table> "
      ],
      "text/plain": [
       "<pandas.io.formats.style.Styler at 0x14b4257df60>"
      ]
     },
     "execution_count": 605,
     "metadata": {},
     "output_type": "execute_result"
    }
   ],
   "source": [
    "# Identify the the top 5 spenders in the game by total purchase value, then list (in a table):\n",
    "\n",
    "sn_purchase_value=file_df.groupby([\"SN\"])['Price'].sum().rename(\"Total Purchase Value\")\n",
    "sn_purchase_count=file_df.groupby([\"SN\"])['Price'].count().rename(\"Purchase Count\")\n",
    "sn_purchase_avg=file_df.groupby([\"SN\"])['Price'].mean().rename(\"Average Purchase Price\")\n",
    "\n",
    "# Convert to DataFrame\n",
    "spenders_data = pd.DataFrame({\"Total Purchase Value\":sn_purchase_value,\"Purchase Count\":sn_purchase_count,\"Average Purchase Price\":sn_purchase_avg},columns = [\"Purchase Count\",\"Average Purchase Price\",\"Total Purchase Value\"])\n",
    "\n",
    "spenders_data\n",
    "                             \n",
    "spenders_data_summary = spenders_data.sort_values(\"Total Purchase Value\", ascending=False).head()\n",
    "                             \n",
    "# Format the results\n",
    "spenders_data_summary.style.format({\"Total Purchase Value\":\"${:.2f}\",\"Average Purchase Price\":\"${:.2f}\"})\n"
   ]
  },
  {
   "cell_type": "code",
   "execution_count": 606,
   "metadata": {},
   "outputs": [
    {
     "data": {
      "text/html": [
       "<style  type=\"text/css\" >\n",
       "</style>  \n",
       "<table id=\"T_9ea6e722_2b27_11e8_8b55_14abc5858625\" > \n",
       "<thead>    <tr> \n",
       "        <th class=\"blank\" ></th> \n",
       "        <th class=\"blank level0\" ></th> \n",
       "        <th class=\"col_heading level0 col0\" >Purchase Count</th> \n",
       "        <th class=\"col_heading level0 col1\" >Item Price</th> \n",
       "        <th class=\"col_heading level0 col2\" >Total Purchase Value</th> \n",
       "    </tr>    <tr> \n",
       "        <th class=\"index_name level0\" >Item ID</th> \n",
       "        <th class=\"index_name level1\" >Item Name</th> \n",
       "        <th class=\"blank\" ></th> \n",
       "        <th class=\"blank\" ></th> \n",
       "        <th class=\"blank\" ></th> \n",
       "    </tr></thead> \n",
       "<tbody>    <tr> \n",
       "        <th id=\"T_9ea6e722_2b27_11e8_8b55_14abc5858625level0_row0\" class=\"row_heading level0 row0\" >39</th> \n",
       "        <th id=\"T_9ea6e722_2b27_11e8_8b55_14abc5858625level1_row0\" class=\"row_heading level1 row0\" >Betrayal, Whisper of Grieving Widows</th> \n",
       "        <td id=\"T_9ea6e722_2b27_11e8_8b55_14abc5858625row0_col0\" class=\"data row0 col0\" >11</td> \n",
       "        <td id=\"T_9ea6e722_2b27_11e8_8b55_14abc5858625row0_col1\" class=\"data row0 col1\" >$2.35</td> \n",
       "        <td id=\"T_9ea6e722_2b27_11e8_8b55_14abc5858625row0_col2\" class=\"data row0 col2\" >$25.85</td> \n",
       "    </tr>    <tr> \n",
       "        <th id=\"T_9ea6e722_2b27_11e8_8b55_14abc5858625level0_row1\" class=\"row_heading level0 row1\" >84</th> \n",
       "        <th id=\"T_9ea6e722_2b27_11e8_8b55_14abc5858625level1_row1\" class=\"row_heading level1 row1\" >Arcane Gem</th> \n",
       "        <td id=\"T_9ea6e722_2b27_11e8_8b55_14abc5858625row1_col0\" class=\"data row1 col0\" >11</td> \n",
       "        <td id=\"T_9ea6e722_2b27_11e8_8b55_14abc5858625row1_col1\" class=\"data row1 col1\" >$2.23</td> \n",
       "        <td id=\"T_9ea6e722_2b27_11e8_8b55_14abc5858625row1_col2\" class=\"data row1 col2\" >$24.53</td> \n",
       "    </tr>    <tr> \n",
       "        <th id=\"T_9ea6e722_2b27_11e8_8b55_14abc5858625level0_row2\" class=\"row_heading level0 row2\" >31</th> \n",
       "        <th id=\"T_9ea6e722_2b27_11e8_8b55_14abc5858625level1_row2\" class=\"row_heading level1 row2\" >Trickster</th> \n",
       "        <td id=\"T_9ea6e722_2b27_11e8_8b55_14abc5858625row2_col0\" class=\"data row2 col0\" >9</td> \n",
       "        <td id=\"T_9ea6e722_2b27_11e8_8b55_14abc5858625row2_col1\" class=\"data row2 col1\" >$2.07</td> \n",
       "        <td id=\"T_9ea6e722_2b27_11e8_8b55_14abc5858625row2_col2\" class=\"data row2 col2\" >$18.63</td> \n",
       "    </tr>    <tr> \n",
       "        <th id=\"T_9ea6e722_2b27_11e8_8b55_14abc5858625level0_row3\" class=\"row_heading level0 row3\" >175</th> \n",
       "        <th id=\"T_9ea6e722_2b27_11e8_8b55_14abc5858625level1_row3\" class=\"row_heading level1 row3\" >Woeful Adamantite Claymore</th> \n",
       "        <td id=\"T_9ea6e722_2b27_11e8_8b55_14abc5858625row3_col0\" class=\"data row3 col0\" >9</td> \n",
       "        <td id=\"T_9ea6e722_2b27_11e8_8b55_14abc5858625row3_col1\" class=\"data row3 col1\" >$1.24</td> \n",
       "        <td id=\"T_9ea6e722_2b27_11e8_8b55_14abc5858625row3_col2\" class=\"data row3 col2\" >$11.16</td> \n",
       "    </tr>    <tr> \n",
       "        <th id=\"T_9ea6e722_2b27_11e8_8b55_14abc5858625level0_row4\" class=\"row_heading level0 row4\" >13</th> \n",
       "        <th id=\"T_9ea6e722_2b27_11e8_8b55_14abc5858625level1_row4\" class=\"row_heading level1 row4\" >Serenity</th> \n",
       "        <td id=\"T_9ea6e722_2b27_11e8_8b55_14abc5858625row4_col0\" class=\"data row4 col0\" >9</td> \n",
       "        <td id=\"T_9ea6e722_2b27_11e8_8b55_14abc5858625row4_col1\" class=\"data row4 col1\" >$1.49</td> \n",
       "        <td id=\"T_9ea6e722_2b27_11e8_8b55_14abc5858625row4_col2\" class=\"data row4 col2\" >$13.41</td> \n",
       "    </tr></tbody> \n",
       "</table> "
      ],
      "text/plain": [
       "<pandas.io.formats.style.Styler at 0x14b425c2438>"
      ]
     },
     "execution_count": 606,
     "metadata": {},
     "output_type": "execute_result"
    }
   ],
   "source": [
    "#Identify the 5 most popular items by purchase count, then list (in a table):\n",
    "item_data = file_df.loc[:,[\"Item ID\", \"Item Name\", \"Price\"]]\n",
    "\n",
    "pop_item_purchase = item_data.groupby([\"Item ID\", \"Item Name\"]).sum()[\"Price\"].rename(\"Total Purchase Value\")\n",
    "pop_item_count = item_data.groupby([\"Item ID\", \"Item Name\"]).count()[\"Price\"].rename(\"Purchase Count\")\n",
    "pop_item_avg = item_data.groupby([\"Item ID\", \"Item Name\"]).mean()[\"Price\"].rename(\"Item Price\")\n",
    "\n",
    "# Convert to DataFrame\n",
    "pop_item_data = pd.DataFrame({\"Total Purchase Value\":pop_item_purchase,\n",
    "                              \"Purchase Count\":pop_item_count,\n",
    "                              \"Item Price\":pop_item_avg},\n",
    "                             columns = [\"Purchase Count\",\"Item Price\",\"Total Purchase Value\"])\n",
    "\n",
    "pop_item_data.head()\n",
    "\n",
    "pop_item_data_summary = pop_item_data.sort_values(\"Purchase Count\", ascending=False).head()\n",
    "\n",
    "# Format the results\n",
    "pop_item_data_summary.style.format({\"Total Purchase Value\":\"${:.2f}\",\"Item Price\":\"${:.2f}\"})\n"
   ]
  },
  {
   "cell_type": "code",
   "execution_count": 607,
   "metadata": {},
   "outputs": [
    {
     "data": {
      "text/html": [
       "<style  type=\"text/css\" >\n",
       "</style>  \n",
       "<table id=\"T_9ed110b8_2b27_11e8_9352_14abc5858625\" > \n",
       "<thead>    <tr> \n",
       "        <th class=\"blank\" ></th> \n",
       "        <th class=\"blank level0\" ></th> \n",
       "        <th class=\"col_heading level0 col0\" >Purchase Count</th> \n",
       "        <th class=\"col_heading level0 col1\" >Item Price</th> \n",
       "        <th class=\"col_heading level0 col2\" >Total Purchase Value</th> \n",
       "    </tr>    <tr> \n",
       "        <th class=\"index_name level0\" >Item ID</th> \n",
       "        <th class=\"index_name level1\" >Item Name</th> \n",
       "        <th class=\"blank\" ></th> \n",
       "        <th class=\"blank\" ></th> \n",
       "        <th class=\"blank\" ></th> \n",
       "    </tr></thead> \n",
       "<tbody>    <tr> \n",
       "        <th id=\"T_9ed110b8_2b27_11e8_9352_14abc5858625level0_row0\" class=\"row_heading level0 row0\" >34</th> \n",
       "        <th id=\"T_9ed110b8_2b27_11e8_9352_14abc5858625level1_row0\" class=\"row_heading level1 row0\" >Retribution Axe</th> \n",
       "        <td id=\"T_9ed110b8_2b27_11e8_9352_14abc5858625row0_col0\" class=\"data row0 col0\" >9</td> \n",
       "        <td id=\"T_9ed110b8_2b27_11e8_9352_14abc5858625row0_col1\" class=\"data row0 col1\" >$4.14</td> \n",
       "        <td id=\"T_9ed110b8_2b27_11e8_9352_14abc5858625row0_col2\" class=\"data row0 col2\" >$37.26</td> \n",
       "    </tr>    <tr> \n",
       "        <th id=\"T_9ed110b8_2b27_11e8_9352_14abc5858625level0_row1\" class=\"row_heading level0 row1\" >115</th> \n",
       "        <th id=\"T_9ed110b8_2b27_11e8_9352_14abc5858625level1_row1\" class=\"row_heading level1 row1\" >Spectral Diamond Doomblade</th> \n",
       "        <td id=\"T_9ed110b8_2b27_11e8_9352_14abc5858625row1_col0\" class=\"data row1 col0\" >7</td> \n",
       "        <td id=\"T_9ed110b8_2b27_11e8_9352_14abc5858625row1_col1\" class=\"data row1 col1\" >$4.25</td> \n",
       "        <td id=\"T_9ed110b8_2b27_11e8_9352_14abc5858625row1_col2\" class=\"data row1 col2\" >$29.75</td> \n",
       "    </tr>    <tr> \n",
       "        <th id=\"T_9ed110b8_2b27_11e8_9352_14abc5858625level0_row2\" class=\"row_heading level0 row2\" >32</th> \n",
       "        <th id=\"T_9ed110b8_2b27_11e8_9352_14abc5858625level1_row2\" class=\"row_heading level1 row2\" >Orenmir</th> \n",
       "        <td id=\"T_9ed110b8_2b27_11e8_9352_14abc5858625row2_col0\" class=\"data row2 col0\" >6</td> \n",
       "        <td id=\"T_9ed110b8_2b27_11e8_9352_14abc5858625row2_col1\" class=\"data row2 col1\" >$4.95</td> \n",
       "        <td id=\"T_9ed110b8_2b27_11e8_9352_14abc5858625row2_col2\" class=\"data row2 col2\" >$29.70</td> \n",
       "    </tr>    <tr> \n",
       "        <th id=\"T_9ed110b8_2b27_11e8_9352_14abc5858625level0_row3\" class=\"row_heading level0 row3\" >103</th> \n",
       "        <th id=\"T_9ed110b8_2b27_11e8_9352_14abc5858625level1_row3\" class=\"row_heading level1 row3\" >Singed Scalpel</th> \n",
       "        <td id=\"T_9ed110b8_2b27_11e8_9352_14abc5858625row3_col0\" class=\"data row3 col0\" >6</td> \n",
       "        <td id=\"T_9ed110b8_2b27_11e8_9352_14abc5858625row3_col1\" class=\"data row3 col1\" >$4.87</td> \n",
       "        <td id=\"T_9ed110b8_2b27_11e8_9352_14abc5858625row3_col2\" class=\"data row3 col2\" >$29.22</td> \n",
       "    </tr>    <tr> \n",
       "        <th id=\"T_9ed110b8_2b27_11e8_9352_14abc5858625level0_row4\" class=\"row_heading level0 row4\" >107</th> \n",
       "        <th id=\"T_9ed110b8_2b27_11e8_9352_14abc5858625level1_row4\" class=\"row_heading level1 row4\" >Splitter, Foe Of Subtlety</th> \n",
       "        <td id=\"T_9ed110b8_2b27_11e8_9352_14abc5858625row4_col0\" class=\"data row4 col0\" >8</td> \n",
       "        <td id=\"T_9ed110b8_2b27_11e8_9352_14abc5858625row4_col1\" class=\"data row4 col1\" >$3.61</td> \n",
       "        <td id=\"T_9ed110b8_2b27_11e8_9352_14abc5858625row4_col2\" class=\"data row4 col2\" >$28.88</td> \n",
       "    </tr></tbody> \n",
       "</table> "
      ],
      "text/plain": [
       "<pandas.io.formats.style.Styler at 0x14b425a1978>"
      ]
     },
     "execution_count": 607,
     "metadata": {},
     "output_type": "execute_result"
    }
   ],
   "source": [
    "#Identify the 5 most profitable items by total purchase value, then list (in a table):\n",
    "pop_item_data_pv_summary = pop_item_data.sort_values(\"Total Purchase Value\", ascending=False).head()\n",
    "\n",
    "# Format the results\n",
    "pop_item_data_pv_summary.style.format({\"Total Purchase Value\":\"${:.2f}\",\"Item Price\":\"${:.2f}\"})"
   ]
  },
  {
   "cell_type": "code",
   "execution_count": null,
   "metadata": {},
   "outputs": [],
   "source": []
  },
  {
   "cell_type": "code",
   "execution_count": null,
   "metadata": {},
   "outputs": [],
   "source": []
  },
  {
   "cell_type": "code",
   "execution_count": null,
   "metadata": {},
   "outputs": [],
   "source": []
  }
 ],
 "metadata": {
  "kernelspec": {
   "display_name": "Python [conda env:PythonData]",
   "language": "python",
   "name": "conda-env-PythonData-py"
  },
  "language_info": {
   "codemirror_mode": {
    "name": "ipython",
    "version": 3
   },
   "file_extension": ".py",
   "mimetype": "text/x-python",
   "name": "python",
   "nbconvert_exporter": "python",
   "pygments_lexer": "ipython3",
   "version": "3.6.4"
  }
 },
 "nbformat": 4,
 "nbformat_minor": 2
}
